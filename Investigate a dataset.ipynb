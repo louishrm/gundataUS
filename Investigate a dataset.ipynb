{
 "cells": [
  {
   "cell_type": "markdown",
   "metadata": {},
   "source": [
    "# Project: Investigate a Dataset: US census data on guns\n",
    "\n",
    "## Table of Contents\n",
    "<ul>\n",
    "<li><a href=\"#intro\">Introduction</a></li>\n",
    "<li><a href=\"#wrangling\">Data Wrangling</a></li>\n",
    "<li><a href=\"#eda\">Exploratory Data Analysis</a></li>\n",
    "<li><a href=\"#conclusions\">Conclusions</a></li>\n",
    "</ul>"
   ]
  },
  {
   "cell_type": "markdown",
   "metadata": {},
   "source": [
    "<a id='intro'></a>\n",
    "## Introduction\n",
    "\n",
    "> We will conduct an analysis of some US census data and the FBI gun data associated with the NCIS background checks. "
   ]
  },
  {
   "cell_type": "code",
   "execution_count": 2,
   "metadata": {},
   "outputs": [],
   "source": [
    "#Imports \n",
    "import pandas as pd\n",
    "import matplotlib.pyplot as plt\n",
    "import numpy as np \n",
    "%matplotlib inline "
   ]
  },
  {
   "cell_type": "markdown",
   "metadata": {},
   "source": [
    "<a id='wrangling'></a>\n",
    "## Data Wrangling\n",
    "### Opening Files "
   ]
  },
  {
   "cell_type": "code",
   "execution_count": 3,
   "metadata": {},
   "outputs": [],
   "source": [
    "#opening csv files \n",
    "df_census = pd.read_csv('U.S. Census Data.csv')\n",
    "xl_ncis = pd.read_excel('gun_data.xlsx')"
   ]
  },
  {
   "cell_type": "code",
   "execution_count": 4,
   "metadata": {},
   "outputs": [],
   "source": [
    "#converting the excel file to csv\n",
    "xl_ncis.to_csv('gun_data.csv', encoding = 'utf-8', index= False)\n",
    "\n",
    "#creating a new dataframe for the gun data\n",
    "df_ncis = pd.read_csv('gun_data.csv')"
   ]
  },
  {
   "cell_type": "markdown",
   "metadata": {},
   "source": [
    "### Quick snapshots of the dataframes "
   ]
  },
  {
   "cell_type": "code",
   "execution_count": 5,
   "metadata": {},
   "outputs": [
    {
     "data": {
      "text/html": [
       "<div>\n",
       "<style scoped>\n",
       "    .dataframe tbody tr th:only-of-type {\n",
       "        vertical-align: middle;\n",
       "    }\n",
       "\n",
       "    .dataframe tbody tr th {\n",
       "        vertical-align: top;\n",
       "    }\n",
       "\n",
       "    .dataframe thead th {\n",
       "        text-align: right;\n",
       "    }\n",
       "</style>\n",
       "<table border=\"1\" class=\"dataframe\">\n",
       "  <thead>\n",
       "    <tr style=\"text-align: right;\">\n",
       "      <th></th>\n",
       "      <th>Fact</th>\n",
       "      <th>Fact Note</th>\n",
       "      <th>Alabama</th>\n",
       "      <th>Alaska</th>\n",
       "      <th>Arizona</th>\n",
       "      <th>Arkansas</th>\n",
       "      <th>California</th>\n",
       "      <th>Colorado</th>\n",
       "      <th>Connecticut</th>\n",
       "      <th>Delaware</th>\n",
       "      <th>...</th>\n",
       "      <th>South Dakota</th>\n",
       "      <th>Tennessee</th>\n",
       "      <th>Texas</th>\n",
       "      <th>Utah</th>\n",
       "      <th>Vermont</th>\n",
       "      <th>Virginia</th>\n",
       "      <th>Washington</th>\n",
       "      <th>West Virginia</th>\n",
       "      <th>Wisconsin</th>\n",
       "      <th>Wyoming</th>\n",
       "    </tr>\n",
       "  </thead>\n",
       "  <tbody>\n",
       "    <tr>\n",
       "      <th>0</th>\n",
       "      <td>Population estimates, July 1, 2016,  (V2016)</td>\n",
       "      <td>NaN</td>\n",
       "      <td>4,863,300</td>\n",
       "      <td>741,894</td>\n",
       "      <td>6,931,071</td>\n",
       "      <td>2,988,248</td>\n",
       "      <td>39,250,017</td>\n",
       "      <td>5,540,545</td>\n",
       "      <td>3,576,452</td>\n",
       "      <td>952,065</td>\n",
       "      <td>...</td>\n",
       "      <td>865454</td>\n",
       "      <td>6651194</td>\n",
       "      <td>27,862,596</td>\n",
       "      <td>3,051,217</td>\n",
       "      <td>624,594</td>\n",
       "      <td>8,411,808</td>\n",
       "      <td>7,288,000</td>\n",
       "      <td>1,831,102</td>\n",
       "      <td>5,778,708</td>\n",
       "      <td>585,501</td>\n",
       "    </tr>\n",
       "    <tr>\n",
       "      <th>1</th>\n",
       "      <td>Population estimates base, April 1, 2010,  (V2...</td>\n",
       "      <td>NaN</td>\n",
       "      <td>4,780,131</td>\n",
       "      <td>710,249</td>\n",
       "      <td>6,392,301</td>\n",
       "      <td>2,916,025</td>\n",
       "      <td>37,254,522</td>\n",
       "      <td>5,029,324</td>\n",
       "      <td>3,574,114</td>\n",
       "      <td>897,936</td>\n",
       "      <td>...</td>\n",
       "      <td>814195</td>\n",
       "      <td>6346298</td>\n",
       "      <td>25,146,100</td>\n",
       "      <td>2,763,888</td>\n",
       "      <td>625,741</td>\n",
       "      <td>8,001,041</td>\n",
       "      <td>6,724,545</td>\n",
       "      <td>1,853,011</td>\n",
       "      <td>5,687,289</td>\n",
       "      <td>563,767</td>\n",
       "    </tr>\n",
       "    <tr>\n",
       "      <th>2</th>\n",
       "      <td>Population, percent change - April 1, 2010 (es...</td>\n",
       "      <td>NaN</td>\n",
       "      <td>1.70%</td>\n",
       "      <td>4.50%</td>\n",
       "      <td>8.40%</td>\n",
       "      <td>2.50%</td>\n",
       "      <td>5.40%</td>\n",
       "      <td>10.20%</td>\n",
       "      <td>0.10%</td>\n",
       "      <td>6.00%</td>\n",
       "      <td>...</td>\n",
       "      <td>0.063</td>\n",
       "      <td>0.048</td>\n",
       "      <td>10.80%</td>\n",
       "      <td>10.40%</td>\n",
       "      <td>-0.20%</td>\n",
       "      <td>5.10%</td>\n",
       "      <td>8.40%</td>\n",
       "      <td>-1.20%</td>\n",
       "      <td>1.60%</td>\n",
       "      <td>3.90%</td>\n",
       "    </tr>\n",
       "    <tr>\n",
       "      <th>3</th>\n",
       "      <td>Population, Census, April 1, 2010</td>\n",
       "      <td>NaN</td>\n",
       "      <td>4,779,736</td>\n",
       "      <td>710,231</td>\n",
       "      <td>6,392,017</td>\n",
       "      <td>2,915,918</td>\n",
       "      <td>37,253,956</td>\n",
       "      <td>5,029,196</td>\n",
       "      <td>3,574,097</td>\n",
       "      <td>897,934</td>\n",
       "      <td>...</td>\n",
       "      <td>814180</td>\n",
       "      <td>6346105</td>\n",
       "      <td>25,145,561</td>\n",
       "      <td>2,763,885</td>\n",
       "      <td>625,741</td>\n",
       "      <td>8,001,024</td>\n",
       "      <td>6,724,540</td>\n",
       "      <td>1,852,994</td>\n",
       "      <td>5,686,986</td>\n",
       "      <td>563,626</td>\n",
       "    </tr>\n",
       "    <tr>\n",
       "      <th>4</th>\n",
       "      <td>Persons under 5 years, percent, July 1, 2016, ...</td>\n",
       "      <td>NaN</td>\n",
       "      <td>6.00%</td>\n",
       "      <td>7.30%</td>\n",
       "      <td>6.30%</td>\n",
       "      <td>6.40%</td>\n",
       "      <td>6.30%</td>\n",
       "      <td>6.10%</td>\n",
       "      <td>5.20%</td>\n",
       "      <td>5.80%</td>\n",
       "      <td>...</td>\n",
       "      <td>0.071</td>\n",
       "      <td>0.061</td>\n",
       "      <td>7.20%</td>\n",
       "      <td>8.30%</td>\n",
       "      <td>4.90%</td>\n",
       "      <td>6.10%</td>\n",
       "      <td>6.20%</td>\n",
       "      <td>5.50%</td>\n",
       "      <td>5.80%</td>\n",
       "      <td>6.50%</td>\n",
       "    </tr>\n",
       "  </tbody>\n",
       "</table>\n",
       "<p>5 rows × 52 columns</p>\n",
       "</div>"
      ],
      "text/plain": [
       "                                                Fact Fact Note    Alabama  \\\n",
       "0       Population estimates, July 1, 2016,  (V2016)       NaN  4,863,300   \n",
       "1  Population estimates base, April 1, 2010,  (V2...       NaN  4,780,131   \n",
       "2  Population, percent change - April 1, 2010 (es...       NaN      1.70%   \n",
       "3                  Population, Census, April 1, 2010       NaN  4,779,736   \n",
       "4  Persons under 5 years, percent, July 1, 2016, ...       NaN      6.00%   \n",
       "\n",
       "    Alaska    Arizona   Arkansas  California   Colorado Connecticut Delaware  \\\n",
       "0  741,894  6,931,071  2,988,248  39,250,017  5,540,545   3,576,452  952,065   \n",
       "1  710,249  6,392,301  2,916,025  37,254,522  5,029,324   3,574,114  897,936   \n",
       "2    4.50%      8.40%      2.50%       5.40%     10.20%       0.10%    6.00%   \n",
       "3  710,231  6,392,017  2,915,918  37,253,956  5,029,196   3,574,097  897,934   \n",
       "4    7.30%      6.30%      6.40%       6.30%      6.10%       5.20%    5.80%   \n",
       "\n",
       "   ... South Dakota Tennessee       Texas       Utah  Vermont   Virginia  \\\n",
       "0  ...       865454   6651194  27,862,596  3,051,217  624,594  8,411,808   \n",
       "1  ...       814195   6346298  25,146,100  2,763,888  625,741  8,001,041   \n",
       "2  ...        0.063     0.048      10.80%     10.40%   -0.20%      5.10%   \n",
       "3  ...       814180   6346105  25,145,561  2,763,885  625,741  8,001,024   \n",
       "4  ...        0.071     0.061       7.20%      8.30%    4.90%      6.10%   \n",
       "\n",
       "  Washington West Virginia  Wisconsin  Wyoming  \n",
       "0  7,288,000     1,831,102  5,778,708  585,501  \n",
       "1  6,724,545     1,853,011  5,687,289  563,767  \n",
       "2      8.40%        -1.20%      1.60%    3.90%  \n",
       "3  6,724,540     1,852,994  5,686,986  563,626  \n",
       "4      6.20%         5.50%      5.80%    6.50%  \n",
       "\n",
       "[5 rows x 52 columns]"
      ]
     },
     "execution_count": 5,
     "metadata": {},
     "output_type": "execute_result"
    }
   ],
   "source": [
    "#View the first 5 rows of the census file\n",
    "df_census.head()"
   ]
  },
  {
   "cell_type": "code",
   "execution_count": 6,
   "metadata": {},
   "outputs": [
    {
     "data": {
      "text/html": [
       "<div>\n",
       "<style scoped>\n",
       "    .dataframe tbody tr th:only-of-type {\n",
       "        vertical-align: middle;\n",
       "    }\n",
       "\n",
       "    .dataframe tbody tr th {\n",
       "        vertical-align: top;\n",
       "    }\n",
       "\n",
       "    .dataframe thead th {\n",
       "        text-align: right;\n",
       "    }\n",
       "</style>\n",
       "<table border=\"1\" class=\"dataframe\">\n",
       "  <thead>\n",
       "    <tr style=\"text-align: right;\">\n",
       "      <th></th>\n",
       "      <th>month</th>\n",
       "      <th>state</th>\n",
       "      <th>permit</th>\n",
       "      <th>permit_recheck</th>\n",
       "      <th>handgun</th>\n",
       "      <th>long_gun</th>\n",
       "      <th>other</th>\n",
       "      <th>multiple</th>\n",
       "      <th>admin</th>\n",
       "      <th>prepawn_handgun</th>\n",
       "      <th>...</th>\n",
       "      <th>returned_other</th>\n",
       "      <th>rentals_handgun</th>\n",
       "      <th>rentals_long_gun</th>\n",
       "      <th>private_sale_handgun</th>\n",
       "      <th>private_sale_long_gun</th>\n",
       "      <th>private_sale_other</th>\n",
       "      <th>return_to_seller_handgun</th>\n",
       "      <th>return_to_seller_long_gun</th>\n",
       "      <th>return_to_seller_other</th>\n",
       "      <th>totals</th>\n",
       "    </tr>\n",
       "  </thead>\n",
       "  <tbody>\n",
       "    <tr>\n",
       "      <th>0</th>\n",
       "      <td>2017-09</td>\n",
       "      <td>Alabama</td>\n",
       "      <td>16717.0</td>\n",
       "      <td>0.0</td>\n",
       "      <td>5734.0</td>\n",
       "      <td>6320.0</td>\n",
       "      <td>221.0</td>\n",
       "      <td>317</td>\n",
       "      <td>0.0</td>\n",
       "      <td>15.0</td>\n",
       "      <td>...</td>\n",
       "      <td>0.0</td>\n",
       "      <td>0.0</td>\n",
       "      <td>0.0</td>\n",
       "      <td>9.0</td>\n",
       "      <td>16.0</td>\n",
       "      <td>3.0</td>\n",
       "      <td>0.0</td>\n",
       "      <td>0.0</td>\n",
       "      <td>3.0</td>\n",
       "      <td>32019</td>\n",
       "    </tr>\n",
       "    <tr>\n",
       "      <th>1</th>\n",
       "      <td>2017-09</td>\n",
       "      <td>Alaska</td>\n",
       "      <td>209.0</td>\n",
       "      <td>2.0</td>\n",
       "      <td>2320.0</td>\n",
       "      <td>2930.0</td>\n",
       "      <td>219.0</td>\n",
       "      <td>160</td>\n",
       "      <td>0.0</td>\n",
       "      <td>5.0</td>\n",
       "      <td>...</td>\n",
       "      <td>0.0</td>\n",
       "      <td>0.0</td>\n",
       "      <td>0.0</td>\n",
       "      <td>17.0</td>\n",
       "      <td>24.0</td>\n",
       "      <td>1.0</td>\n",
       "      <td>0.0</td>\n",
       "      <td>0.0</td>\n",
       "      <td>0.0</td>\n",
       "      <td>6303</td>\n",
       "    </tr>\n",
       "    <tr>\n",
       "      <th>2</th>\n",
       "      <td>2017-09</td>\n",
       "      <td>Arizona</td>\n",
       "      <td>5069.0</td>\n",
       "      <td>382.0</td>\n",
       "      <td>11063.0</td>\n",
       "      <td>7946.0</td>\n",
       "      <td>920.0</td>\n",
       "      <td>631</td>\n",
       "      <td>0.0</td>\n",
       "      <td>13.0</td>\n",
       "      <td>...</td>\n",
       "      <td>0.0</td>\n",
       "      <td>0.0</td>\n",
       "      <td>0.0</td>\n",
       "      <td>38.0</td>\n",
       "      <td>12.0</td>\n",
       "      <td>2.0</td>\n",
       "      <td>0.0</td>\n",
       "      <td>0.0</td>\n",
       "      <td>0.0</td>\n",
       "      <td>28394</td>\n",
       "    </tr>\n",
       "    <tr>\n",
       "      <th>3</th>\n",
       "      <td>2017-09</td>\n",
       "      <td>Arkansas</td>\n",
       "      <td>2935.0</td>\n",
       "      <td>632.0</td>\n",
       "      <td>4347.0</td>\n",
       "      <td>6063.0</td>\n",
       "      <td>165.0</td>\n",
       "      <td>366</td>\n",
       "      <td>51.0</td>\n",
       "      <td>12.0</td>\n",
       "      <td>...</td>\n",
       "      <td>0.0</td>\n",
       "      <td>0.0</td>\n",
       "      <td>0.0</td>\n",
       "      <td>13.0</td>\n",
       "      <td>23.0</td>\n",
       "      <td>0.0</td>\n",
       "      <td>0.0</td>\n",
       "      <td>2.0</td>\n",
       "      <td>1.0</td>\n",
       "      <td>17747</td>\n",
       "    </tr>\n",
       "    <tr>\n",
       "      <th>4</th>\n",
       "      <td>2017-09</td>\n",
       "      <td>California</td>\n",
       "      <td>57839.0</td>\n",
       "      <td>0.0</td>\n",
       "      <td>37165.0</td>\n",
       "      <td>24581.0</td>\n",
       "      <td>2984.0</td>\n",
       "      <td>0</td>\n",
       "      <td>0.0</td>\n",
       "      <td>0.0</td>\n",
       "      <td>...</td>\n",
       "      <td>0.0</td>\n",
       "      <td>0.0</td>\n",
       "      <td>0.0</td>\n",
       "      <td>0.0</td>\n",
       "      <td>0.0</td>\n",
       "      <td>0.0</td>\n",
       "      <td>0.0</td>\n",
       "      <td>0.0</td>\n",
       "      <td>0.0</td>\n",
       "      <td>123506</td>\n",
       "    </tr>\n",
       "  </tbody>\n",
       "</table>\n",
       "<p>5 rows × 27 columns</p>\n",
       "</div>"
      ],
      "text/plain": [
       "     month       state   permit  permit_recheck  handgun  long_gun   other  \\\n",
       "0  2017-09     Alabama  16717.0             0.0   5734.0    6320.0   221.0   \n",
       "1  2017-09      Alaska    209.0             2.0   2320.0    2930.0   219.0   \n",
       "2  2017-09     Arizona   5069.0           382.0  11063.0    7946.0   920.0   \n",
       "3  2017-09    Arkansas   2935.0           632.0   4347.0    6063.0   165.0   \n",
       "4  2017-09  California  57839.0             0.0  37165.0   24581.0  2984.0   \n",
       "\n",
       "   multiple  admin  prepawn_handgun  ...  returned_other  rentals_handgun  \\\n",
       "0       317    0.0             15.0  ...             0.0              0.0   \n",
       "1       160    0.0              5.0  ...             0.0              0.0   \n",
       "2       631    0.0             13.0  ...             0.0              0.0   \n",
       "3       366   51.0             12.0  ...             0.0              0.0   \n",
       "4         0    0.0              0.0  ...             0.0              0.0   \n",
       "\n",
       "   rentals_long_gun  private_sale_handgun  private_sale_long_gun  \\\n",
       "0               0.0                   9.0                   16.0   \n",
       "1               0.0                  17.0                   24.0   \n",
       "2               0.0                  38.0                   12.0   \n",
       "3               0.0                  13.0                   23.0   \n",
       "4               0.0                   0.0                    0.0   \n",
       "\n",
       "   private_sale_other  return_to_seller_handgun  return_to_seller_long_gun  \\\n",
       "0                 3.0                       0.0                        0.0   \n",
       "1                 1.0                       0.0                        0.0   \n",
       "2                 2.0                       0.0                        0.0   \n",
       "3                 0.0                       0.0                        2.0   \n",
       "4                 0.0                       0.0                        0.0   \n",
       "\n",
       "   return_to_seller_other  totals  \n",
       "0                     3.0   32019  \n",
       "1                     0.0    6303  \n",
       "2                     0.0   28394  \n",
       "3                     1.0   17747  \n",
       "4                     0.0  123506  \n",
       "\n",
       "[5 rows x 27 columns]"
      ]
     },
     "execution_count": 6,
     "metadata": {},
     "output_type": "execute_result"
    }
   ],
   "source": [
    "df_ncis.head()"
   ]
  },
  {
   "cell_type": "markdown",
   "metadata": {},
   "source": [
    "> We notice several issues with these dataframes, particularly the census data, which seems to have null values, ill-formatted strings and column names as well as numeric data with commas. Lets take a closer look. \n",
    "\n",
    "> Another important detail we see is that the census data and the gun data are linked by the different states. To make the exploratory data analysis process easier, we could try flipping the rows and columns of the census data and group by state. "
   ]
  },
  {
   "cell_type": "markdown",
   "metadata": {},
   "source": [
    "### Cleaness Checks \n",
    "#### Census data "
   ]
  },
  {
   "cell_type": "code",
   "execution_count": 7,
   "metadata": {},
   "outputs": [
    {
     "data": {
      "text/plain": [
       "Fact               5\n",
       "Fact Note         57\n",
       "Alabama           20\n",
       "Alaska            20\n",
       "Arizona           20\n",
       "Arkansas          20\n",
       "California        20\n",
       "Colorado          20\n",
       "Connecticut       20\n",
       "Delaware          20\n",
       "Florida           20\n",
       "Georgia           20\n",
       "Hawaii            20\n",
       "Idaho             20\n",
       "Illinois          20\n",
       "Indiana           20\n",
       "Iowa              20\n",
       "Kansas            20\n",
       "Kentucky          20\n",
       "Louisiana         20\n",
       "Maine             20\n",
       "Maryland          20\n",
       "Massachusetts     20\n",
       "Michigan          20\n",
       "Minnesota         20\n",
       "Mississippi       20\n",
       "Missouri          20\n",
       "Montana           20\n",
       "Nebraska          20\n",
       "Nevada            20\n",
       "New Hampshire     20\n",
       "New Jersey        20\n",
       "New Mexico        20\n",
       "New York          20\n",
       "North Carolina    20\n",
       "North Dakota      20\n",
       "Ohio              20\n",
       "Oklahoma          20\n",
       "Oregon            20\n",
       "Pennsylvania      20\n",
       "Rhode Island      20\n",
       "South Carolina    20\n",
       "South Dakota      20\n",
       "Tennessee         20\n",
       "Texas             20\n",
       "Utah              20\n",
       "Vermont           20\n",
       "Virginia          20\n",
       "Washington        20\n",
       "West Virginia     20\n",
       "Wisconsin         20\n",
       "Wyoming           20\n",
       "dtype: int64"
      ]
     },
     "execution_count": 7,
     "metadata": {},
     "output_type": "execute_result"
    }
   ],
   "source": [
    "#check for missing values \n",
    "df_census.isnull().sum()"
   ]
  },
  {
   "cell_type": "markdown",
   "metadata": {},
   "source": [
    "> We notice that there are a lot of missing values in this dataset. Firstly, the column 'Fact Note' has 57 missing values. Instead of dropping these rows, we can replace all the null values in this column by the string 'None'. All the other columns have 20 null values. This could mean that all the null values occur on the same 20 rows, and that these rows should be dropped from the table. "
   ]
  },
  {
   "cell_type": "code",
   "execution_count": 8,
   "metadata": {},
   "outputs": [
    {
     "data": {
      "text/plain": [
       "3"
      ]
     },
     "execution_count": 8,
     "metadata": {},
     "output_type": "execute_result"
    }
   ],
   "source": [
    "#Check for duplicate rows\n",
    "sum(df_census.duplicated())"
   ]
  },
  {
   "cell_type": "markdown",
   "metadata": {},
   "source": [
    "> There are 3 duplicate rows in this dataframe. We will drop these rows in the data cleaning part."
   ]
  },
  {
   "cell_type": "code",
   "execution_count": 9,
   "metadata": {},
   "outputs": [
    {
     "data": {
      "text/plain": [
       "Fact              object\n",
       "Fact Note         object\n",
       "Alabama           object\n",
       "Alaska            object\n",
       "Arizona           object\n",
       "Arkansas          object\n",
       "California        object\n",
       "Colorado          object\n",
       "Connecticut       object\n",
       "Delaware          object\n",
       "Florida           object\n",
       "Georgia           object\n",
       "Hawaii            object\n",
       "Idaho             object\n",
       "Illinois          object\n",
       "Indiana           object\n",
       "Iowa              object\n",
       "Kansas            object\n",
       "Kentucky          object\n",
       "Louisiana         object\n",
       "Maine             object\n",
       "Maryland          object\n",
       "Massachusetts     object\n",
       "Michigan          object\n",
       "Minnesota         object\n",
       "Mississippi       object\n",
       "Missouri          object\n",
       "Montana           object\n",
       "Nebraska          object\n",
       "Nevada            object\n",
       "New Hampshire     object\n",
       "New Jersey        object\n",
       "New Mexico        object\n",
       "New York          object\n",
       "North Carolina    object\n",
       "North Dakota      object\n",
       "Ohio              object\n",
       "Oklahoma          object\n",
       "Oregon            object\n",
       "Pennsylvania      object\n",
       "Rhode Island      object\n",
       "South Carolina    object\n",
       "South Dakota      object\n",
       "Tennessee         object\n",
       "Texas             object\n",
       "Utah              object\n",
       "Vermont           object\n",
       "Virginia          object\n",
       "Washington        object\n",
       "West Virginia     object\n",
       "Wisconsin         object\n",
       "Wyoming           object\n",
       "dtype: object"
      ]
     },
     "execution_count": 9,
     "metadata": {},
     "output_type": "execute_result"
    }
   ],
   "source": [
    "#Check the datatypes\n",
    "df_census.dtypes"
   ]
  },
  {
   "cell_type": "markdown",
   "metadata": {},
   "source": [
    "#### NCIS gun data"
   ]
  },
  {
   "cell_type": "code",
   "execution_count": 10,
   "metadata": {},
   "outputs": [
    {
     "data": {
      "text/plain": [
       "(12485, 27)"
      ]
     },
     "execution_count": 10,
     "metadata": {},
     "output_type": "execute_result"
    }
   ],
   "source": [
    "df_ncis.shape"
   ]
  },
  {
   "cell_type": "code",
   "execution_count": 11,
   "metadata": {
    "scrolled": true
   },
   "outputs": [
    {
     "data": {
      "text/plain": [
       "month                            0\n",
       "state                            0\n",
       "permit                          24\n",
       "permit_recheck               11385\n",
       "handgun                         20\n",
       "long_gun                        19\n",
       "other                         6985\n",
       "multiple                         0\n",
       "admin                           23\n",
       "prepawn_handgun               1943\n",
       "prepawn_long_gun              1945\n",
       "prepawn_other                 7370\n",
       "redemption_handgun            1940\n",
       "redemption_long_gun           1941\n",
       "redemption_other              7370\n",
       "returned_handgun             10285\n",
       "returned_long_gun            10340\n",
       "returned_other               10670\n",
       "rentals_handgun              11495\n",
       "rentals_long_gun             11660\n",
       "private_sale_handgun          9735\n",
       "private_sale_long_gun         9735\n",
       "private_sale_other            9735\n",
       "return_to_seller_handgun     10010\n",
       "return_to_seller_long_gun     9735\n",
       "return_to_seller_other       10230\n",
       "totals                           0\n",
       "dtype: int64"
      ]
     },
     "execution_count": 11,
     "metadata": {},
     "output_type": "execute_result"
    }
   ],
   "source": [
    "df_ncis.isnull().sum()"
   ]
  },
  {
   "cell_type": "markdown",
   "metadata": {},
   "source": [
    ">This dataset contains large amounts of missing data. By closer inspection, we see that we could replace these null values by zeros because the columns which have missing data are quantititave. For example, the abscence of a value in a cell could mean that no one from Arizona returned a handgun in June 2017. "
   ]
  },
  {
   "cell_type": "code",
   "execution_count": 12,
   "metadata": {},
   "outputs": [
    {
     "data": {
      "text/plain": [
       "0"
      ]
     },
     "execution_count": 12,
     "metadata": {},
     "output_type": "execute_result"
    }
   ],
   "source": [
    "sum(df_ncis.duplicated()) "
   ]
  },
  {
   "cell_type": "code",
   "execution_count": 13,
   "metadata": {},
   "outputs": [
    {
     "data": {
      "text/plain": [
       "month                         object\n",
       "state                         object\n",
       "permit                       float64\n",
       "permit_recheck               float64\n",
       "handgun                      float64\n",
       "long_gun                     float64\n",
       "other                        float64\n",
       "multiple                       int64\n",
       "admin                        float64\n",
       "prepawn_handgun              float64\n",
       "prepawn_long_gun             float64\n",
       "prepawn_other                float64\n",
       "redemption_handgun           float64\n",
       "redemption_long_gun          float64\n",
       "redemption_other             float64\n",
       "returned_handgun             float64\n",
       "returned_long_gun            float64\n",
       "returned_other               float64\n",
       "rentals_handgun              float64\n",
       "rentals_long_gun             float64\n",
       "private_sale_handgun         float64\n",
       "private_sale_long_gun        float64\n",
       "private_sale_other           float64\n",
       "return_to_seller_handgun     float64\n",
       "return_to_seller_long_gun    float64\n",
       "return_to_seller_other       float64\n",
       "totals                         int64\n",
       "dtype: object"
      ]
     },
     "execution_count": 13,
     "metadata": {},
     "output_type": "execute_result"
    }
   ],
   "source": [
    "df_ncis.dtypes"
   ]
  },
  {
   "cell_type": "markdown",
   "metadata": {},
   "source": [
    ">Unlike the gun census data, all the numeric data is of the correct datatype! "
   ]
  },
  {
   "cell_type": "markdown",
   "metadata": {},
   "source": [
    "### Data Cleaning \n",
    "#### Census Data "
   ]
  },
  {
   "cell_type": "code",
   "execution_count": 14,
   "metadata": {},
   "outputs": [],
   "source": [
    "#Reformat state names to all lowercase and replace spaces with underscores. \n",
    "df_census.rename(columns = lambda x: x.lower().replace(' ','_'), inplace=True)\n",
    "\n",
    "#Create a list of state names, remove first 2 elements in the list. \n",
    "states = df_census.columns[2:]"
   ]
  },
  {
   "cell_type": "code",
   "execution_count": 15,
   "metadata": {},
   "outputs": [],
   "source": [
    "#Fill missing values in 'fact_note' column with the string 'none'\n",
    "df_census['fact_note'].fillna('none', inplace= True )"
   ]
  },
  {
   "cell_type": "code",
   "execution_count": 16,
   "metadata": {},
   "outputs": [],
   "source": [
    "#Drop rows with missing values \n",
    "df_census.dropna(axis=0, inplace=True  )"
   ]
  },
  {
   "cell_type": "code",
   "execution_count": 17,
   "metadata": {},
   "outputs": [],
   "source": [
    "#Drop duplicated rows\n",
    "df_census.drop_duplicates(inplace=True, ignore_index=True )"
   ]
  },
  {
   "cell_type": "code",
   "execution_count": 18,
   "metadata": {},
   "outputs": [],
   "source": [
    "#flip axis\n",
    "df_census = df_census.transpose()"
   ]
  },
  {
   "cell_type": "code",
   "execution_count": 19,
   "metadata": {},
   "outputs": [],
   "source": [
    "#Change the headers and add a new column containing the states. \n",
    "headers = df_census.iloc[0]\n",
    "newcensus_df  = pd.DataFrame(df_census.values[2:], columns=headers)\n",
    "newcensus_df['state'] = states\n"
   ]
  },
  {
   "cell_type": "code",
   "execution_count": 20,
   "metadata": {},
   "outputs": [],
   "source": [
    "#Correctly reformat the new column names\n",
    "newcensus_df.rename(columns = lambda x: x.lower().replace(' ','_').replace(',', '_'), inplace=True)"
   ]
  },
  {
   "cell_type": "code",
   "execution_count": 21,
   "metadata": {},
   "outputs": [],
   "source": [
    "#Set state column to index \n",
    "newcensus_df.set_index('state', inplace =True)"
   ]
  },
  {
   "cell_type": "code",
   "execution_count": 22,
   "metadata": {},
   "outputs": [
    {
     "data": {
      "text/html": [
       "<div>\n",
       "<style scoped>\n",
       "    .dataframe tbody tr th:only-of-type {\n",
       "        vertical-align: middle;\n",
       "    }\n",
       "\n",
       "    .dataframe tbody tr th {\n",
       "        vertical-align: top;\n",
       "    }\n",
       "\n",
       "    .dataframe thead th {\n",
       "        text-align: right;\n",
       "    }\n",
       "</style>\n",
       "<table border=\"1\" class=\"dataframe\">\n",
       "  <thead>\n",
       "    <tr style=\"text-align: right;\">\n",
       "      <th>fact</th>\n",
       "      <th>population_estimates__july_1__2016___(v2016)</th>\n",
       "      <th>population_estimates_base__april_1__2010___(v2016)</th>\n",
       "      <th>population__percent_change_-_april_1__2010_(estimates_base)_to_july_1__2016___(v2016)</th>\n",
       "      <th>population__census__april_1__2010</th>\n",
       "      <th>persons_under_5_years__percent__july_1__2016___(v2016)</th>\n",
       "      <th>persons_under_5_years__percent__april_1__2010</th>\n",
       "      <th>persons_under_18_years__percent__july_1__2016___(v2016)</th>\n",
       "      <th>persons_under_18_years__percent__april_1__2010</th>\n",
       "      <th>persons_65_years_and_over__percent___july_1__2016___(v2016)</th>\n",
       "      <th>persons_65_years_and_over__percent__april_1__2010</th>\n",
       "      <th>...</th>\n",
       "      <th>all_firms__2012</th>\n",
       "      <th>men-owned_firms__2012</th>\n",
       "      <th>women-owned_firms__2012</th>\n",
       "      <th>minority-owned_firms__2012</th>\n",
       "      <th>nonminority-owned_firms__2012</th>\n",
       "      <th>veteran-owned_firms__2012</th>\n",
       "      <th>nonveteran-owned_firms__2012</th>\n",
       "      <th>population_per_square_mile__2010</th>\n",
       "      <th>land_area_in_square_miles__2010</th>\n",
       "      <th>fips_code</th>\n",
       "    </tr>\n",
       "    <tr>\n",
       "      <th>state</th>\n",
       "      <th></th>\n",
       "      <th></th>\n",
       "      <th></th>\n",
       "      <th></th>\n",
       "      <th></th>\n",
       "      <th></th>\n",
       "      <th></th>\n",
       "      <th></th>\n",
       "      <th></th>\n",
       "      <th></th>\n",
       "      <th></th>\n",
       "      <th></th>\n",
       "      <th></th>\n",
       "      <th></th>\n",
       "      <th></th>\n",
       "      <th></th>\n",
       "      <th></th>\n",
       "      <th></th>\n",
       "      <th></th>\n",
       "      <th></th>\n",
       "      <th></th>\n",
       "    </tr>\n",
       "  </thead>\n",
       "  <tbody>\n",
       "    <tr>\n",
       "      <th>alabama</th>\n",
       "      <td>4,863,300</td>\n",
       "      <td>4,780,131</td>\n",
       "      <td>1.70%</td>\n",
       "      <td>4,779,736</td>\n",
       "      <td>6.00%</td>\n",
       "      <td>6.40%</td>\n",
       "      <td>22.60%</td>\n",
       "      <td>23.70%</td>\n",
       "      <td>16.10%</td>\n",
       "      <td>13.80%</td>\n",
       "      <td>...</td>\n",
       "      <td>374,153</td>\n",
       "      <td>203,604</td>\n",
       "      <td>137,630</td>\n",
       "      <td>92,219</td>\n",
       "      <td>272,651</td>\n",
       "      <td>41,943</td>\n",
       "      <td>316,984</td>\n",
       "      <td>94.4</td>\n",
       "      <td>50,645.33</td>\n",
       "      <td>\"01\"</td>\n",
       "    </tr>\n",
       "    <tr>\n",
       "      <th>alaska</th>\n",
       "      <td>741,894</td>\n",
       "      <td>710,249</td>\n",
       "      <td>4.50%</td>\n",
       "      <td>710,231</td>\n",
       "      <td>7.30%</td>\n",
       "      <td>7.60%</td>\n",
       "      <td>25.20%</td>\n",
       "      <td>26.40%</td>\n",
       "      <td>10.40%</td>\n",
       "      <td>7.70%</td>\n",
       "      <td>...</td>\n",
       "      <td>68,032</td>\n",
       "      <td>35,402</td>\n",
       "      <td>22,141</td>\n",
       "      <td>13,688</td>\n",
       "      <td>51,147</td>\n",
       "      <td>7,953</td>\n",
       "      <td>56,091</td>\n",
       "      <td>1.2</td>\n",
       "      <td>570,640.95</td>\n",
       "      <td>\"02\"</td>\n",
       "    </tr>\n",
       "    <tr>\n",
       "      <th>arizona</th>\n",
       "      <td>6,931,071</td>\n",
       "      <td>6,392,301</td>\n",
       "      <td>8.40%</td>\n",
       "      <td>6,392,017</td>\n",
       "      <td>6.30%</td>\n",
       "      <td>7.10%</td>\n",
       "      <td>23.50%</td>\n",
       "      <td>25.50%</td>\n",
       "      <td>16.90%</td>\n",
       "      <td>13.80%</td>\n",
       "      <td>...</td>\n",
       "      <td>499,926</td>\n",
       "      <td>245,243</td>\n",
       "      <td>182,425</td>\n",
       "      <td>135,313</td>\n",
       "      <td>344,981</td>\n",
       "      <td>46,780</td>\n",
       "      <td>427,582</td>\n",
       "      <td>56.3</td>\n",
       "      <td>113,594.08</td>\n",
       "      <td>\"04\"</td>\n",
       "    </tr>\n",
       "    <tr>\n",
       "      <th>arkansas</th>\n",
       "      <td>2,988,248</td>\n",
       "      <td>2,916,025</td>\n",
       "      <td>2.50%</td>\n",
       "      <td>2,915,918</td>\n",
       "      <td>6.40%</td>\n",
       "      <td>6.80%</td>\n",
       "      <td>23.60%</td>\n",
       "      <td>24.40%</td>\n",
       "      <td>16.30%</td>\n",
       "      <td>14.40%</td>\n",
       "      <td>...</td>\n",
       "      <td>231,959</td>\n",
       "      <td>123,158</td>\n",
       "      <td>75,962</td>\n",
       "      <td>35,982</td>\n",
       "      <td>189,029</td>\n",
       "      <td>25,915</td>\n",
       "      <td>192,988</td>\n",
       "      <td>56</td>\n",
       "      <td>52,035.48</td>\n",
       "      <td>\"05\"</td>\n",
       "    </tr>\n",
       "    <tr>\n",
       "      <th>california</th>\n",
       "      <td>39,250,017</td>\n",
       "      <td>37,254,522</td>\n",
       "      <td>5.40%</td>\n",
       "      <td>37,253,956</td>\n",
       "      <td>6.30%</td>\n",
       "      <td>6.80%</td>\n",
       "      <td>23.20%</td>\n",
       "      <td>25.00%</td>\n",
       "      <td>13.60%</td>\n",
       "      <td>11.40%</td>\n",
       "      <td>...</td>\n",
       "      <td>3,548,449</td>\n",
       "      <td>1,852,580</td>\n",
       "      <td>1,320,085</td>\n",
       "      <td>1,619,857</td>\n",
       "      <td>1,819,107</td>\n",
       "      <td>252,377</td>\n",
       "      <td>3,176,341</td>\n",
       "      <td>239.1</td>\n",
       "      <td>155,779.22</td>\n",
       "      <td>\"06\"</td>\n",
       "    </tr>\n",
       "  </tbody>\n",
       "</table>\n",
       "<p>5 rows × 65 columns</p>\n",
       "</div>"
      ],
      "text/plain": [
       "fact       population_estimates__july_1__2016___(v2016)  \\\n",
       "state                                                     \n",
       "alabama                                       4,863,300   \n",
       "alaska                                          741,894   \n",
       "arizona                                       6,931,071   \n",
       "arkansas                                      2,988,248   \n",
       "california                                   39,250,017   \n",
       "\n",
       "fact       population_estimates_base__april_1__2010___(v2016)  \\\n",
       "state                                                           \n",
       "alabama                                             4,780,131   \n",
       "alaska                                                710,249   \n",
       "arizona                                             6,392,301   \n",
       "arkansas                                            2,916,025   \n",
       "california                                         37,254,522   \n",
       "\n",
       "fact       population__percent_change_-_april_1__2010_(estimates_base)_to_july_1__2016___(v2016)  \\\n",
       "state                                                                                              \n",
       "alabama                                                 1.70%                                      \n",
       "alaska                                                  4.50%                                      \n",
       "arizona                                                 8.40%                                      \n",
       "arkansas                                                2.50%                                      \n",
       "california                                              5.40%                                      \n",
       "\n",
       "fact       population__census__april_1__2010  \\\n",
       "state                                          \n",
       "alabama                            4,779,736   \n",
       "alaska                               710,231   \n",
       "arizona                            6,392,017   \n",
       "arkansas                           2,915,918   \n",
       "california                        37,253,956   \n",
       "\n",
       "fact       persons_under_5_years__percent__july_1__2016___(v2016)  \\\n",
       "state                                                               \n",
       "alabama                                                 6.00%       \n",
       "alaska                                                  7.30%       \n",
       "arizona                                                 6.30%       \n",
       "arkansas                                                6.40%       \n",
       "california                                              6.30%       \n",
       "\n",
       "fact       persons_under_5_years__percent__april_1__2010  \\\n",
       "state                                                      \n",
       "alabama                                            6.40%   \n",
       "alaska                                             7.60%   \n",
       "arizona                                            7.10%   \n",
       "arkansas                                           6.80%   \n",
       "california                                         6.80%   \n",
       "\n",
       "fact       persons_under_18_years__percent__july_1__2016___(v2016)  \\\n",
       "state                                                                \n",
       "alabama                                                22.60%        \n",
       "alaska                                                 25.20%        \n",
       "arizona                                                23.50%        \n",
       "arkansas                                               23.60%        \n",
       "california                                             23.20%        \n",
       "\n",
       "fact       persons_under_18_years__percent__april_1__2010  \\\n",
       "state                                                       \n",
       "alabama                                            23.70%   \n",
       "alaska                                             26.40%   \n",
       "arizona                                            25.50%   \n",
       "arkansas                                           24.40%   \n",
       "california                                         25.00%   \n",
       "\n",
       "fact       persons_65_years_and_over__percent___july_1__2016___(v2016)  \\\n",
       "state                                                                    \n",
       "alabama                                                16.10%            \n",
       "alaska                                                 10.40%            \n",
       "arizona                                                16.90%            \n",
       "arkansas                                               16.30%            \n",
       "california                                             13.60%            \n",
       "\n",
       "fact       persons_65_years_and_over__percent__april_1__2010  ...  \\\n",
       "state                                                         ...   \n",
       "alabama                                               13.80%  ...   \n",
       "alaska                                                 7.70%  ...   \n",
       "arizona                                               13.80%  ...   \n",
       "arkansas                                              14.40%  ...   \n",
       "california                                            11.40%  ...   \n",
       "\n",
       "fact       all_firms__2012 men-owned_firms__2012 women-owned_firms__2012  \\\n",
       "state                                                                      \n",
       "alabama            374,153               203,604                 137,630   \n",
       "alaska              68,032                35,402                  22,141   \n",
       "arizona            499,926               245,243                 182,425   \n",
       "arkansas           231,959               123,158                  75,962   \n",
       "california       3,548,449             1,852,580               1,320,085   \n",
       "\n",
       "fact       minority-owned_firms__2012 nonminority-owned_firms__2012  \\\n",
       "state                                                                 \n",
       "alabama                        92,219                       272,651   \n",
       "alaska                         13,688                        51,147   \n",
       "arizona                       135,313                       344,981   \n",
       "arkansas                       35,982                       189,029   \n",
       "california                  1,619,857                     1,819,107   \n",
       "\n",
       "fact       veteran-owned_firms__2012 nonveteran-owned_firms__2012  \\\n",
       "state                                                               \n",
       "alabama                       41,943                      316,984   \n",
       "alaska                         7,953                       56,091   \n",
       "arizona                       46,780                      427,582   \n",
       "arkansas                      25,915                      192,988   \n",
       "california                   252,377                    3,176,341   \n",
       "\n",
       "fact       population_per_square_mile__2010 land_area_in_square_miles__2010  \\\n",
       "state                                                                         \n",
       "alabama                                94.4                       50,645.33   \n",
       "alaska                                  1.2                      570,640.95   \n",
       "arizona                                56.3                      113,594.08   \n",
       "arkansas                                 56                       52,035.48   \n",
       "california                            239.1                      155,779.22   \n",
       "\n",
       "fact       fips_code  \n",
       "state                 \n",
       "alabama         \"01\"  \n",
       "alaska          \"02\"  \n",
       "arizona         \"04\"  \n",
       "arkansas        \"05\"  \n",
       "california      \"06\"  \n",
       "\n",
       "[5 rows x 65 columns]"
      ]
     },
     "execution_count": 22,
     "metadata": {},
     "output_type": "execute_result"
    }
   ],
   "source": [
    "newcensus_df.head()"
   ]
  },
  {
   "cell_type": "markdown",
   "metadata": {},
   "source": [
    ">Now this dataset is cleaner and easier to interpret in parallel with the gun data file. We still notice one major problem: the numeric values in the cells are badly organised: for example, there are letters to indicate missing values, percentage signs, dollar signs.. \n",
    "Fixing all these issues now would be a waste of time because answer our questions we will have to focus on the census data for a handful of states. We can re-clean this dataframe once we have selected the rows we want to work with. "
   ]
  },
  {
   "cell_type": "markdown",
   "metadata": {},
   "source": [
    "#### Gun Data "
   ]
  },
  {
   "cell_type": "code",
   "execution_count": 23,
   "metadata": {},
   "outputs": [],
   "source": [
    "#replace null values with zeros \n",
    "df_ncis.fillna(0, inplace=True)"
   ]
  },
  {
   "cell_type": "markdown",
   "metadata": {},
   "source": [
    ">This is pretty much all we had to do for this dataframe. "
   ]
  },
  {
   "cell_type": "markdown",
   "metadata": {},
   "source": [
    "<a id='eda'></a>\n",
    "## Exploratory Data Analysis\n",
    "### Research Question 1: Which states have had the highest growth in gun registrations?"
   ]
  },
  {
   "cell_type": "code",
   "execution_count": 24,
   "metadata": {},
   "outputs": [
    {
     "data": {
      "text/plain": [
       "Index(['month', 'state', 'permit', 'permit_recheck', 'handgun', 'long_gun',\n",
       "       'other', 'multiple', 'admin', 'prepawn_handgun', 'prepawn_long_gun',\n",
       "       'prepawn_other', 'redemption_handgun', 'redemption_long_gun',\n",
       "       'redemption_other', 'returned_handgun', 'returned_long_gun',\n",
       "       'returned_other', 'rentals_handgun', 'rentals_long_gun',\n",
       "       'private_sale_handgun', 'private_sale_long_gun', 'private_sale_other',\n",
       "       'return_to_seller_handgun', 'return_to_seller_long_gun',\n",
       "       'return_to_seller_other', 'totals', 'year'],\n",
       "      dtype='object')"
      ]
     },
     "execution_count": 24,
     "metadata": {},
     "output_type": "execute_result"
    }
   ],
   "source": [
    "#Create a new column 'year'\n",
    "dates = [c.split('-') for c in df_ncis['month']]\n",
    "years= [i[0] for i in dates]\n",
    "df_ncis['year'] = years \n",
    "df_ncis.columns"
   ]
  },
  {
   "cell_type": "code",
   "execution_count": 25,
   "metadata": {},
   "outputs": [],
   "source": [
    "#Group by state and year and get the average totals \n",
    "new_df = df_ncis[['state', 'year', 'totals']].groupby(['state', 'year'], as_index=False).mean()"
   ]
  },
  {
   "cell_type": "markdown",
   "metadata": {},
   "source": [
    "> We are interested in the countries which have had the highest growth in gun registrations. We could just take the difference in totals:\n",
    "\n",
    "$$ \\Delta  = tot_{2017_i} - tot_{1998_i} $$ \n",
    "\n",
    "where $i$ represents the ith state. However, since we don't know shape of the curves for each state, we could compute the following value:\n",
    "\n",
    "$$ \\frac{\\Delta}{\\Delta t}  =\\frac{tot_{2017_i} - tot_{1998_i}}{2017-1998} $$\n",
    "\n",
    "Which will give us a fairly good approximation of the gradients. "
   ]
  },
  {
   "cell_type": "code",
   "execution_count": 26,
   "metadata": {},
   "outputs": [
    {
     "data": {
      "text/html": [
       "<div>\n",
       "<style scoped>\n",
       "    .dataframe tbody tr th:only-of-type {\n",
       "        vertical-align: middle;\n",
       "    }\n",
       "\n",
       "    .dataframe tbody tr th {\n",
       "        vertical-align: top;\n",
       "    }\n",
       "\n",
       "    .dataframe thead th {\n",
       "        text-align: right;\n",
       "    }\n",
       "</style>\n",
       "<table border=\"1\" class=\"dataframe\">\n",
       "  <thead>\n",
       "    <tr style=\"text-align: right;\">\n",
       "      <th></th>\n",
       "      <th>state</th>\n",
       "      <th>year</th>\n",
       "      <th>totals</th>\n",
       "    </tr>\n",
       "  </thead>\n",
       "  <tbody>\n",
       "    <tr>\n",
       "      <th>0</th>\n",
       "      <td>Alabama</td>\n",
       "      <td>1998</td>\n",
       "      <td>18284.000000</td>\n",
       "    </tr>\n",
       "    <tr>\n",
       "      <th>1</th>\n",
       "      <td>Alabama</td>\n",
       "      <td>1999</td>\n",
       "      <td>20563.000000</td>\n",
       "    </tr>\n",
       "    <tr>\n",
       "      <th>2</th>\n",
       "      <td>Alabama</td>\n",
       "      <td>2000</td>\n",
       "      <td>18492.583333</td>\n",
       "    </tr>\n",
       "    <tr>\n",
       "      <th>3</th>\n",
       "      <td>Alabama</td>\n",
       "      <td>2001</td>\n",
       "      <td>19182.250000</td>\n",
       "    </tr>\n",
       "    <tr>\n",
       "      <th>4</th>\n",
       "      <td>Alabama</td>\n",
       "      <td>2002</td>\n",
       "      <td>18417.333333</td>\n",
       "    </tr>\n",
       "  </tbody>\n",
       "</table>\n",
       "</div>"
      ],
      "text/plain": [
       "     state  year        totals\n",
       "0  Alabama  1998  18284.000000\n",
       "1  Alabama  1999  20563.000000\n",
       "2  Alabama  2000  18492.583333\n",
       "3  Alabama  2001  19182.250000\n",
       "4  Alabama  2002  18417.333333"
      ]
     },
     "execution_count": 26,
     "metadata": {},
     "output_type": "execute_result"
    }
   ],
   "source": [
    "new_df.head()"
   ]
  },
  {
   "cell_type": "code",
   "execution_count": 27,
   "metadata": {},
   "outputs": [],
   "source": [
    "#We want to get extract the rows where year = 1998 and 2017 for each state\n",
    "df_98 = new_df.query('year == \"1998\"')\n",
    "df_17 = new_df.query('year == \"2017\"')"
   ]
  },
  {
   "cell_type": "code",
   "execution_count": 28,
   "metadata": {},
   "outputs": [],
   "source": [
    "#Reset indexes to avoid mismatch error\n",
    "df_98.reset_index(drop=True,inplace=True)\n",
    "df_17.reset_index(drop=True,inplace=True)"
   ]
  },
  {
   "cell_type": "code",
   "execution_count": 29,
   "metadata": {
    "scrolled": true
   },
   "outputs": [],
   "source": [
    "diff_totals_quotient = (df_17['totals']-df_98['totals'])/19"
   ]
  },
  {
   "cell_type": "code",
   "execution_count": 30,
   "metadata": {},
   "outputs": [],
   "source": [
    "#Create a list of all US states and territories from https://www.loc.gov/law/help/guide/states.php\n",
    "states_territories = pd.Series(['Alabama', 'Alaska', 'American Samoa', 'Arizona, Arkansas',\n",
    "'California', 'Colorado', 'Connecticut',\n",
    "'Delaware', 'District of Columbia',\n",
    "'Florida',\n",
    "'Georgia', 'Guam',\n",
    "'Hawaii',\n",
    "'Idaho', 'Illinois', 'Indiana', 'Iowa',\n",
    "'Kansas', 'Kentucky',\n",
    "'Louisiana',\n",
    "'Maine', 'Maryland', 'Massachusetts', 'Michigan', 'Minnesota', 'Mississippi', 'Missouri', 'Montana',\n",
    "'Nebraska', 'Nevada', 'New Hampshire', 'New Jersey', 'New Mexico', 'New York', 'North Carolina', 'North Dakota', 'Northern Mariana Islands',\n",
    "'Ohio', 'Oklahoma', 'Oregon',\n",
    "'Pennsylvania', 'Puerto Rico',\n",
    "'Rhode Island',\n",
    "'South Carolina', 'South Dakota',\n",
    "'Tennessee', 'Texas',\n",
    "'Utah',\n",
    "'Vermont', 'Virgin Islands', 'Virginia',\n",
    "'Washington', 'West Virginia', 'Wisconsin', 'Wyoming'])"
   ]
  },
  {
   "cell_type": "code",
   "execution_count": 31,
   "metadata": {},
   "outputs": [],
   "source": [
    "#Create a new dataframe with states and territories and quotient difference. \n",
    "df_final = pd.concat([states_territories, diff_totals_quotient], axis=1)\n"
   ]
  },
  {
   "cell_type": "code",
   "execution_count": 32,
   "metadata": {},
   "outputs": [
    {
     "data": {
      "text/html": [
       "<div>\n",
       "<style scoped>\n",
       "    .dataframe tbody tr th:only-of-type {\n",
       "        vertical-align: middle;\n",
       "    }\n",
       "\n",
       "    .dataframe tbody tr th {\n",
       "        vertical-align: top;\n",
       "    }\n",
       "\n",
       "    .dataframe thead th {\n",
       "        text-align: right;\n",
       "    }\n",
       "</style>\n",
       "<table border=\"1\" class=\"dataframe\">\n",
       "  <thead>\n",
       "    <tr style=\"text-align: right;\">\n",
       "      <th></th>\n",
       "      <th>state</th>\n",
       "      <th>change_gun_registrations</th>\n",
       "    </tr>\n",
       "  </thead>\n",
       "  <tbody>\n",
       "    <tr>\n",
       "      <th>18</th>\n",
       "      <td>Kentucky</td>\n",
       "      <td>19149.505848</td>\n",
       "    </tr>\n",
       "    <tr>\n",
       "      <th>14</th>\n",
       "      <td>Illinois</td>\n",
       "      <td>5715.195906</td>\n",
       "    </tr>\n",
       "    <tr>\n",
       "      <th>4</th>\n",
       "      <td>California</td>\n",
       "      <td>5052.780702</td>\n",
       "    </tr>\n",
       "    <tr>\n",
       "      <th>9</th>\n",
       "      <td>Florida</td>\n",
       "      <td>4486.728070</td>\n",
       "    </tr>\n",
       "    <tr>\n",
       "      <th>46</th>\n",
       "      <td>Texas</td>\n",
       "      <td>4117.985380</td>\n",
       "    </tr>\n",
       "  </tbody>\n",
       "</table>\n",
       "</div>"
      ],
      "text/plain": [
       "         state  change_gun_registrations\n",
       "18    Kentucky              19149.505848\n",
       "14    Illinois               5715.195906\n",
       "4   California               5052.780702\n",
       "9      Florida               4486.728070\n",
       "46       Texas               4117.985380"
      ]
     },
     "execution_count": 32,
     "metadata": {},
     "output_type": "execute_result"
    }
   ],
   "source": [
    "df_final.sort_values('totals', ascending = False, inplace=True )\n",
    "df_final.columns = ['state', 'change_gun_registrations']\n",
    "df_final.head()"
   ]
  },
  {
   "cell_type": "markdown",
   "metadata": {},
   "source": [
    "> We see that the states which have experienced the highest growth in gun registrations from 1998 to 2017 are Kentucky, Illinois, Florida, California anf Texas. Furthermore, no states have had a decrease in gun registrations. "
   ]
  },
  {
   "cell_type": "markdown",
   "metadata": {},
   "source": [
    "### Research Question 2: what is the overall trend of gun registrations since 1998? \n",
    "\n",
    ">Let's now take the mean gun registrations per year and plot a graph. "
   ]
  },
  {
   "cell_type": "code",
   "execution_count": 72,
   "metadata": {},
   "outputs": [
    {
     "data": {
      "image/png": "[encoded data removed]",
      "text/plain": [
       "<Figure size 1152x864 with 1 Axes>"
      ]
     },
     "metadata": {
      "needs_background": "light"
     },
     "output_type": "display_data"
    }
   ],
   "source": [
    "pd.DataFrame(new_df.groupby('year').mean()).reset_index().plot.scatter(x='year', y = 'totals', figsize= (16,12))\n",
    "plt.ylabel('gun registrations');\n",
    "plt.title('averge gun registrations per year in the US');"
   ]
  },
  {
   "cell_type": "markdown",
   "metadata": {},
   "source": [
    "### Research Question 3: is there a correlation between race and high gun per capita? "
   ]
  },
  {
   "cell_type": "markdown",
   "metadata": {},
   "source": [
    "> We are first trying to find the states which have the highest gun per capita. Therefore, we will only focus on the year 2017 (which is the most recent data).\n",
    "\n",
    "> The value for the gun per capita for the $i$th state will be: $$G_i = \\frac{tot_{2017_i}}{N_i}$$ Where $N$ represents the population of the $i$th state. "
   ]
  },
  {
   "cell_type": "code",
   "execution_count": 34,
   "metadata": {},
   "outputs": [],
   "source": [
    "#extract population estimates column from the census data \n",
    "population = newcensus_df['population_estimates__july_1__2016___(v2016)']\n",
    "population.reset_index(drop=True, inplace = True)"
   ]
  },
  {
   "cell_type": "code",
   "execution_count": 35,
   "metadata": {},
   "outputs": [
    {
     "data": {
      "text/plain": [
       "0                  Alabama\n",
       "1                   Alaska\n",
       "2                  Arizona\n",
       "3                 Arkansas\n",
       "4               California\n",
       "5                 Colorado\n",
       "6              Connecticut\n",
       "7                 Delaware\n",
       "8     District of Columbia\n",
       "9                  Florida\n",
       "10                 Georgia\n",
       "11                    Guam\n",
       "12                  Hawaii\n",
       "13                   Idaho\n",
       "14                Illinois\n",
       "15                 Indiana\n",
       "16                    Iowa\n",
       "17                  Kansas\n",
       "18                Kentucky\n",
       "19               Louisiana\n",
       "20                   Maine\n",
       "21         Mariana Islands\n",
       "22                Maryland\n",
       "23           Massachusetts\n",
       "24                Michigan\n",
       "25               Minnesota\n",
       "26             Mississippi\n",
       "27                Missouri\n",
       "28                 Montana\n",
       "29                Nebraska\n",
       "30                  Nevada\n",
       "31           New Hampshire\n",
       "32              New Jersey\n",
       "33              New Mexico\n",
       "34                New York\n",
       "35          North Carolina\n",
       "36            North Dakota\n",
       "37                    Ohio\n",
       "38                Oklahoma\n",
       "39                  Oregon\n",
       "40            Pennsylvania\n",
       "41             Puerto Rico\n",
       "42            Rhode Island\n",
       "43          South Carolina\n",
       "44            South Dakota\n",
       "45               Tennessee\n",
       "46                   Texas\n",
       "47                    Utah\n",
       "48                 Vermont\n",
       "49          Virgin Islands\n",
       "50                Virginia\n",
       "51              Washington\n",
       "52           West Virginia\n",
       "53               Wisconsin\n",
       "54                 Wyoming\n",
       "Name: state, dtype: object"
      ]
     },
     "execution_count": 35,
     "metadata": {},
     "output_type": "execute_result"
    }
   ],
   "source": [
    "#We need to drop the rows of df_17 which correspond to other US territories, as we have no census data for them. \n",
    "df_17['state']"
   ]
  },
  {
   "cell_type": "code",
   "execution_count": 36,
   "metadata": {},
   "outputs": [
    {
     "name": "stderr",
     "output_type": "stream",
     "text": [
      "/opt/anaconda3/lib/python3.7/site-packages/pandas/core/frame.py:3997: SettingWithCopyWarning: \n",
      "A value is trying to be set on a copy of a slice from a DataFrame\n",
      "\n",
      "See the caveats in the documentation: https://pandas.pydata.org/pandas-docs/stable/user_guide/indexing.html#returning-a-view-versus-a-copy\n",
      "  errors=errors,\n"
     ]
    }
   ],
   "source": [
    "#Drop rows by index \n",
    "df_17.set_index('state', inplace= True)\n",
    "df_17.drop(index =['Guam', 'Hawaii', 'Mariana Islands', 'Puerto Rico', 'Virgin Islands'], inplace=True )"
   ]
  },
  {
   "cell_type": "code",
   "execution_count": 37,
   "metadata": {},
   "outputs": [],
   "source": [
    "df_17.reset_index(inplace=True)"
   ]
  },
  {
   "cell_type": "code",
   "execution_count": 38,
   "metadata": {},
   "outputs": [
    {
     "name": "stderr",
     "output_type": "stream",
     "text": [
      "/opt/anaconda3/lib/python3.7/site-packages/ipykernel_launcher.py:2: SettingWithCopyWarning: \n",
      "A value is trying to be set on a copy of a slice from a DataFrame.\n",
      "Try using .loc[row_indexer,col_indexer] = value instead\n",
      "\n",
      "See the caveats in the documentation: https://pandas.pydata.org/pandas-docs/stable/user_guide/indexing.html#returning-a-view-versus-a-copy\n",
      "  \n"
     ]
    }
   ],
   "source": [
    "#Add the population column \n",
    "df_17['population'] = population "
   ]
  },
  {
   "cell_type": "code",
   "execution_count": 39,
   "metadata": {},
   "outputs": [
    {
     "data": {
      "text/html": [
       "<div>\n",
       "<style scoped>\n",
       "    .dataframe tbody tr th:only-of-type {\n",
       "        vertical-align: middle;\n",
       "    }\n",
       "\n",
       "    .dataframe tbody tr th {\n",
       "        vertical-align: top;\n",
       "    }\n",
       "\n",
       "    .dataframe thead th {\n",
       "        text-align: right;\n",
       "    }\n",
       "</style>\n",
       "<table border=\"1\" class=\"dataframe\">\n",
       "  <thead>\n",
       "    <tr style=\"text-align: right;\">\n",
       "      <th></th>\n",
       "      <th>state</th>\n",
       "      <th>year</th>\n",
       "      <th>totals</th>\n",
       "      <th>population</th>\n",
       "    </tr>\n",
       "  </thead>\n",
       "  <tbody>\n",
       "    <tr>\n",
       "      <th>0</th>\n",
       "      <td>Alabama</td>\n",
       "      <td>2017</td>\n",
       "      <td>37418.111111</td>\n",
       "      <td>4,863,300</td>\n",
       "    </tr>\n",
       "    <tr>\n",
       "      <th>1</th>\n",
       "      <td>Alaska</td>\n",
       "      <td>2017</td>\n",
       "      <td>6322.444444</td>\n",
       "      <td>741,894</td>\n",
       "    </tr>\n",
       "    <tr>\n",
       "      <th>2</th>\n",
       "      <td>Arizona</td>\n",
       "      <td>2017</td>\n",
       "      <td>31061.444444</td>\n",
       "      <td>6,931,071</td>\n",
       "    </tr>\n",
       "    <tr>\n",
       "      <th>3</th>\n",
       "      <td>Arkansas</td>\n",
       "      <td>2017</td>\n",
       "      <td>17966.000000</td>\n",
       "      <td>2,988,248</td>\n",
       "    </tr>\n",
       "    <tr>\n",
       "      <th>4</th>\n",
       "      <td>California</td>\n",
       "      <td>2017</td>\n",
       "      <td>129725.333333</td>\n",
       "      <td>39,250,017</td>\n",
       "    </tr>\n",
       "  </tbody>\n",
       "</table>\n",
       "</div>"
      ],
      "text/plain": [
       "        state  year         totals  population\n",
       "0     Alabama  2017   37418.111111   4,863,300\n",
       "1      Alaska  2017    6322.444444     741,894\n",
       "2     Arizona  2017   31061.444444   6,931,071\n",
       "3    Arkansas  2017   17966.000000   2,988,248\n",
       "4  California  2017  129725.333333  39,250,017"
      ]
     },
     "execution_count": 39,
     "metadata": {},
     "output_type": "execute_result"
    }
   ],
   "source": [
    "df_17.head()"
   ]
  },
  {
   "cell_type": "code",
   "execution_count": 40,
   "metadata": {},
   "outputs": [
    {
     "data": {
      "text/plain": [
       "state          object\n",
       "year           object\n",
       "totals        float64\n",
       "population     object\n",
       "dtype: object"
      ]
     },
     "execution_count": 40,
     "metadata": {},
     "output_type": "execute_result"
    }
   ],
   "source": [
    "df_17.dtypes"
   ]
  },
  {
   "cell_type": "markdown",
   "metadata": {},
   "source": [
    "> We see that the cells the population column are not float objects, so we need to change the types to compute the gun per capita. "
   ]
  },
  {
   "cell_type": "code",
   "execution_count": 41,
   "metadata": {},
   "outputs": [
    {
     "name": "stderr",
     "output_type": "stream",
     "text": [
      "/opt/anaconda3/lib/python3.7/site-packages/ipykernel_launcher.py:2: SettingWithCopyWarning: \n",
      "A value is trying to be set on a copy of a slice from a DataFrame.\n",
      "Try using .loc[row_indexer,col_indexer] = value instead\n",
      "\n",
      "See the caveats in the documentation: https://pandas.pydata.org/pandas-docs/stable/user_guide/indexing.html#returning-a-view-versus-a-copy\n",
      "  \n"
     ]
    }
   ],
   "source": [
    "numbers = [float(number.replace(',','')) for number in df_17['population']]\n",
    "df_17['population'] = numbers"
   ]
  },
  {
   "cell_type": "code",
   "execution_count": 42,
   "metadata": {},
   "outputs": [
    {
     "name": "stderr",
     "output_type": "stream",
     "text": [
      "/opt/anaconda3/lib/python3.7/site-packages/ipykernel_launcher.py:2: SettingWithCopyWarning: \n",
      "A value is trying to be set on a copy of a slice from a DataFrame.\n",
      "Try using .loc[row_indexer,col_indexer] = value instead\n",
      "\n",
      "See the caveats in the documentation: https://pandas.pydata.org/pandas-docs/stable/user_guide/indexing.html#returning-a-view-versus-a-copy\n",
      "  \n",
      "/opt/anaconda3/lib/python3.7/site-packages/ipykernel_launcher.py:3: SettingWithCopyWarning: \n",
      "A value is trying to be set on a copy of a slice from a DataFrame\n",
      "\n",
      "See the caveats in the documentation: https://pandas.pydata.org/pandas-docs/stable/user_guide/indexing.html#returning-a-view-versus-a-copy\n",
      "  This is separate from the ipykernel package so we can avoid doing imports until\n"
     ]
    },
    {
     "data": {
      "text/html": [
       "<div>\n",
       "<style scoped>\n",
       "    .dataframe tbody tr th:only-of-type {\n",
       "        vertical-align: middle;\n",
       "    }\n",
       "\n",
       "    .dataframe tbody tr th {\n",
       "        vertical-align: top;\n",
       "    }\n",
       "\n",
       "    .dataframe thead th {\n",
       "        text-align: right;\n",
       "    }\n",
       "</style>\n",
       "<table border=\"1\" class=\"dataframe\">\n",
       "  <thead>\n",
       "    <tr style=\"text-align: right;\">\n",
       "      <th></th>\n",
       "      <th>state</th>\n",
       "      <th>year</th>\n",
       "      <th>totals</th>\n",
       "      <th>population</th>\n",
       "      <th>guns_per_1000</th>\n",
       "    </tr>\n",
       "  </thead>\n",
       "  <tbody>\n",
       "    <tr>\n",
       "      <th>16</th>\n",
       "      <td>Kentucky</td>\n",
       "      <td>2017</td>\n",
       "      <td>379775.111111</td>\n",
       "      <td>4436974.0</td>\n",
       "      <td>85.593269</td>\n",
       "    </tr>\n",
       "    <tr>\n",
       "      <th>10</th>\n",
       "      <td>Georgia</td>\n",
       "      <td>2017</td>\n",
       "      <td>42102.333333</td>\n",
       "      <td>1428557.0</td>\n",
       "      <td>29.471931</td>\n",
       "    </tr>\n",
       "    <tr>\n",
       "      <th>22</th>\n",
       "      <td>Minnesota</td>\n",
       "      <td>2017</td>\n",
       "      <td>58811.333333</td>\n",
       "      <td>5519952.0</td>\n",
       "      <td>10.654320</td>\n",
       "    </tr>\n",
       "    <tr>\n",
       "      <th>13</th>\n",
       "      <td>Indiana</td>\n",
       "      <td>2017</td>\n",
       "      <td>67431.222222</td>\n",
       "      <td>6633053.0</td>\n",
       "      <td>10.165941</td>\n",
       "    </tr>\n",
       "    <tr>\n",
       "      <th>12</th>\n",
       "      <td>Illinois</td>\n",
       "      <td>2017</td>\n",
       "      <td>129327.222222</td>\n",
       "      <td>12801539.0</td>\n",
       "      <td>10.102475</td>\n",
       "    </tr>\n",
       "  </tbody>\n",
       "</table>\n",
       "</div>"
      ],
      "text/plain": [
       "        state  year         totals  population  guns_per_1000\n",
       "16   Kentucky  2017  379775.111111   4436974.0      85.593269\n",
       "10    Georgia  2017   42102.333333   1428557.0      29.471931\n",
       "22  Minnesota  2017   58811.333333   5519952.0      10.654320\n",
       "13    Indiana  2017   67431.222222   6633053.0      10.165941\n",
       "12   Illinois  2017  129327.222222  12801539.0      10.102475"
      ]
     },
     "execution_count": 42,
     "metadata": {},
     "output_type": "execute_result"
    }
   ],
   "source": [
    "#Create the gun per capita column and sort in ascending order\n",
    "df_17['guns_per_1000'] = df_17['totals']/df_17['population'] * 1000\n",
    "df_17.sort_values('guns_per_1000',ascending=False, inplace=True)\n",
    "df_17.head()"
   ]
  },
  {
   "cell_type": "markdown",
   "metadata": {},
   "source": [
    "> Now that we have the states with the highest gun per capita, let's look at their census data and see if anything stands out. "
   ]
  },
  {
   "cell_type": "code",
   "execution_count": 43,
   "metadata": {},
   "outputs": [
    {
     "data": {
      "text/plain": [
       "Index(['population_estimates__july_1__2016___(v2016)',\n",
       "       'population_estimates_base__april_1__2010___(v2016)',\n",
       "       'population__percent_change_-_april_1__2010_(estimates_base)_to_july_1__2016___(v2016)',\n",
       "       'population__census__april_1__2010',\n",
       "       'persons_under_5_years__percent__july_1__2016___(v2016)',\n",
       "       'persons_under_5_years__percent__april_1__2010',\n",
       "       'persons_under_18_years__percent__july_1__2016___(v2016)',\n",
       "       'persons_under_18_years__percent__april_1__2010',\n",
       "       'persons_65_years_and_over__percent___july_1__2016___(v2016)',\n",
       "       'persons_65_years_and_over__percent__april_1__2010',\n",
       "       'female_persons__percent___july_1__2016___(v2016)',\n",
       "       'female_persons__percent__april_1__2010',\n",
       "       'white_alone__percent__july_1__2016___(v2016)',\n",
       "       'black_or_african_american_alone__percent__july_1__2016___(v2016)',\n",
       "       'american_indian_and_alaska_native_alone__percent__july_1__2016___(v2016)',\n",
       "       'asian_alone__percent__july_1__2016___(v2016)',\n",
       "       'native_hawaiian_and_other_pacific_islander_alone__percent__july_1__2016___(v2016)',\n",
       "       'two_or_more_races__percent__july_1__2016___(v2016)',\n",
       "       'hispanic_or_latino__percent__july_1__2016___(v2016)',\n",
       "       'white_alone__not_hispanic_or_latino__percent__july_1__2016___(v2016)',\n",
       "       'veterans__2011-2015', 'foreign_born_persons__percent__2011-2015',\n",
       "       'housing_units___july_1__2016___(v2016)',\n",
       "       'housing_units__april_1__2010',\n",
       "       'owner-occupied_housing_unit_rate__2011-2015',\n",
       "       'median_value_of_owner-occupied_housing_units__2011-2015',\n",
       "       'median_selected_monthly_owner_costs_-with_a_mortgage__2011-2015',\n",
       "       'median_selected_monthly_owner_costs_-without_a_mortgage__2011-2015',\n",
       "       'median_gross_rent__2011-2015', 'building_permits__2016',\n",
       "       'households__2011-2015', 'persons_per_household__2011-2015',\n",
       "       'living_in_same_house_1_year_ago__percent_of_persons_age_1_year+__2011-2015',\n",
       "       'language_other_than_english_spoken_at_home__percent_of_persons_age_5_years+__2011-2015',\n",
       "       'high_school_graduate_or_higher__percent_of_persons_age_25_years+__2011-2015',\n",
       "       'bachelor's_degree_or_higher__percent_of_persons_age_25_years+__2011-2015',\n",
       "       'with_a_disability__under_age_65_years__percent__2011-2015',\n",
       "       'persons__without_health_insurance__under_age_65_years__percent',\n",
       "       'in_civilian_labor_force__total__percent_of_population_age_16_years+__2011-2015',\n",
       "       'in_civilian_labor_force__female__percent_of_population_age_16_years+__2011-2015',\n",
       "       'total_accommodation_and_food_services_sales__2012_($1_000)',\n",
       "       'total_health_care_and_social_assistance_receipts/revenue__2012_($1_000)',\n",
       "       'total_manufacturers_shipments__2012_($1_000)',\n",
       "       'total_merchant_wholesaler_sales__2012_($1_000)',\n",
       "       'total_retail_sales__2012_($1_000)',\n",
       "       'total_retail_sales_per_capita__2012',\n",
       "       'mean_travel_time_to_work_(minutes)__workers_age_16_years+__2011-2015',\n",
       "       'median_household_income_(in_2015_dollars)__2011-2015',\n",
       "       'per_capita_income_in_past_12_months_(in_2015_dollars)__2011-2015',\n",
       "       'persons_in_poverty__percent', 'total_employer_establishments__2015',\n",
       "       'total_employment__2015', 'total_annual_payroll__2015_($1_000)',\n",
       "       'total_employment__percent_change__2014-2015',\n",
       "       'total_nonemployer_establishments__2015', 'all_firms__2012',\n",
       "       'men-owned_firms__2012', 'women-owned_firms__2012',\n",
       "       'minority-owned_firms__2012', 'nonminority-owned_firms__2012',\n",
       "       'veteran-owned_firms__2012', 'nonveteran-owned_firms__2012',\n",
       "       'population_per_square_mile__2010', 'land_area_in_square_miles__2010',\n",
       "       'fips_code'],\n",
       "      dtype='object', name='fact')"
      ]
     },
     "execution_count": 43,
     "metadata": {},
     "output_type": "execute_result"
    }
   ],
   "source": [
    "#Find columns relating to ethinicity and race\n",
    "newcensus_df.columns"
   ]
  },
  {
   "cell_type": "code",
   "execution_count": 44,
   "metadata": {},
   "outputs": [],
   "source": [
    "df_ethn = newcensus_df[['white_alone__percent__july_1__2016___(v2016)','black_or_african_american_alone__percent__july_1__2016___(v2016)','american_indian_and_alaska_native_alone__percent__july_1__2016___(v2016)', 'asian_alone__percent__july_1__2016___(v2016)', 'native_hawaiian_and_other_pacific_islander_alone__percent__july_1__2016___(v2016)','hispanic_or_latino__percent__july_1__2016___(v2016)']]\n",
    "#Let's rename these columns to make the data cleaner\n",
    "df_ethn.columns = ['white_alone', 'black_or_afro-american_alone', 'american_indian/alaska_native', 'asian_alone', 'native_hawaiian/other_pacific_islander', 'hispanic_or_latino']"
   ]
  },
  {
   "cell_type": "code",
   "execution_count": 45,
   "metadata": {},
   "outputs": [
    {
     "data": {
      "text/html": [
       "<div>\n",
       "<style scoped>\n",
       "    .dataframe tbody tr th:only-of-type {\n",
       "        vertical-align: middle;\n",
       "    }\n",
       "\n",
       "    .dataframe tbody tr th {\n",
       "        vertical-align: top;\n",
       "    }\n",
       "\n",
       "    .dataframe thead th {\n",
       "        text-align: right;\n",
       "    }\n",
       "</style>\n",
       "<table border=\"1\" class=\"dataframe\">\n",
       "  <thead>\n",
       "    <tr style=\"text-align: right;\">\n",
       "      <th></th>\n",
       "      <th>white_alone</th>\n",
       "      <th>black_or_afro-american_alone</th>\n",
       "      <th>american_indian/alaska_native</th>\n",
       "      <th>asian_alone</th>\n",
       "      <th>native_hawaiian/other_pacific_islander</th>\n",
       "      <th>hispanic_or_latino</th>\n",
       "    </tr>\n",
       "    <tr>\n",
       "      <th>state</th>\n",
       "      <th></th>\n",
       "      <th></th>\n",
       "      <th></th>\n",
       "      <th></th>\n",
       "      <th></th>\n",
       "      <th></th>\n",
       "    </tr>\n",
       "  </thead>\n",
       "  <tbody>\n",
       "    <tr>\n",
       "      <th>alabama</th>\n",
       "      <td>69.30%</td>\n",
       "      <td>26.80%</td>\n",
       "      <td>0.70%</td>\n",
       "      <td>1.40%</td>\n",
       "      <td>0.10%</td>\n",
       "      <td>4.20%</td>\n",
       "    </tr>\n",
       "    <tr>\n",
       "      <th>alaska</th>\n",
       "      <td>66.10%</td>\n",
       "      <td>3.80%</td>\n",
       "      <td>15.20%</td>\n",
       "      <td>6.30%</td>\n",
       "      <td>1.30%</td>\n",
       "      <td>7.00%</td>\n",
       "    </tr>\n",
       "    <tr>\n",
       "      <th>arizona</th>\n",
       "      <td>83.30%</td>\n",
       "      <td>4.90%</td>\n",
       "      <td>5.40%</td>\n",
       "      <td>3.40%</td>\n",
       "      <td>0.30%</td>\n",
       "      <td>30.90%</td>\n",
       "    </tr>\n",
       "    <tr>\n",
       "      <th>arkansas</th>\n",
       "      <td>79.40%</td>\n",
       "      <td>15.70%</td>\n",
       "      <td>1.00%</td>\n",
       "      <td>1.60%</td>\n",
       "      <td>0.30%</td>\n",
       "      <td>7.30%</td>\n",
       "    </tr>\n",
       "    <tr>\n",
       "      <th>california</th>\n",
       "      <td>72.70%</td>\n",
       "      <td>6.50%</td>\n",
       "      <td>1.70%</td>\n",
       "      <td>14.80%</td>\n",
       "      <td>0.50%</td>\n",
       "      <td>38.90%</td>\n",
       "    </tr>\n",
       "  </tbody>\n",
       "</table>\n",
       "</div>"
      ],
      "text/plain": [
       "           white_alone black_or_afro-american_alone  \\\n",
       "state                                                 \n",
       "alabama         69.30%                       26.80%   \n",
       "alaska          66.10%                        3.80%   \n",
       "arizona         83.30%                        4.90%   \n",
       "arkansas        79.40%                       15.70%   \n",
       "california      72.70%                        6.50%   \n",
       "\n",
       "           american_indian/alaska_native asian_alone  \\\n",
       "state                                                  \n",
       "alabama                            0.70%       1.40%   \n",
       "alaska                            15.20%       6.30%   \n",
       "arizona                            5.40%       3.40%   \n",
       "arkansas                           1.00%       1.60%   \n",
       "california                         1.70%      14.80%   \n",
       "\n",
       "           native_hawaiian/other_pacific_islander hispanic_or_latino  \n",
       "state                                                                 \n",
       "alabama                                     0.10%              4.20%  \n",
       "alaska                                      1.30%              7.00%  \n",
       "arizona                                     0.30%             30.90%  \n",
       "arkansas                                    0.30%              7.30%  \n",
       "california                                  0.50%             38.90%  "
      ]
     },
     "execution_count": 45,
     "metadata": {},
     "output_type": "execute_result"
    }
   ],
   "source": [
    "df_ethn.head()"
   ]
  },
  {
   "cell_type": "markdown",
   "metadata": {},
   "source": [
    "> We see that the datatypes of these rows are all string with a '%' at the end there are also cells containing single letters. This is a bit tricky to deal with. "
   ]
  },
  {
   "cell_type": "code",
   "execution_count": 46,
   "metadata": {},
   "outputs": [
    {
     "name": "stderr",
     "output_type": "stream",
     "text": [
      "/opt/anaconda3/lib/python3.7/site-packages/ipykernel_launcher.py:3: SettingWithCopyWarning: \n",
      "A value is trying to be set on a copy of a slice from a DataFrame.\n",
      "Try using .loc[row_indexer,col_indexer] = value instead\n",
      "\n",
      "See the caveats in the documentation: https://pandas.pydata.org/pandas-docs/stable/user_guide/indexing.html#returning-a-view-versus-a-copy\n",
      "  This is separate from the ipykernel package so we can avoid doing imports until\n",
      "/opt/anaconda3/lib/python3.7/site-packages/ipykernel_launcher.py:4: SettingWithCopyWarning: \n",
      "A value is trying to be set on a copy of a slice from a DataFrame.\n",
      "Try using .loc[row_indexer,col_indexer] = value instead\n",
      "\n",
      "See the caveats in the documentation: https://pandas.pydata.org/pandas-docs/stable/user_guide/indexing.html#returning-a-view-versus-a-copy\n",
      "  after removing the cwd from sys.path.\n",
      "/opt/anaconda3/lib/python3.7/site-packages/ipykernel_launcher.py:6: SettingWithCopyWarning: \n",
      "A value is trying to be set on a copy of a slice from a DataFrame.\n",
      "Try using .loc[row_indexer,col_indexer] = value instead\n",
      "\n",
      "See the caveats in the documentation: https://pandas.pydata.org/pandas-docs/stable/user_guide/indexing.html#returning-a-view-versus-a-copy\n",
      "  \n"
     ]
    },
    {
     "data": {
      "text/html": [
       "<div>\n",
       "<style scoped>\n",
       "    .dataframe tbody tr th:only-of-type {\n",
       "        vertical-align: middle;\n",
       "    }\n",
       "\n",
       "    .dataframe tbody tr th {\n",
       "        vertical-align: top;\n",
       "    }\n",
       "\n",
       "    .dataframe thead th {\n",
       "        text-align: right;\n",
       "    }\n",
       "</style>\n",
       "<table border=\"1\" class=\"dataframe\">\n",
       "  <thead>\n",
       "    <tr style=\"text-align: right;\">\n",
       "      <th></th>\n",
       "      <th>white_alone</th>\n",
       "      <th>black_or_afro-american_alone</th>\n",
       "      <th>american_indian/alaska_native</th>\n",
       "      <th>asian_alone</th>\n",
       "      <th>native_hawaiian/other_pacific_islander</th>\n",
       "      <th>hispanic_or_latino</th>\n",
       "    </tr>\n",
       "    <tr>\n",
       "      <th>state</th>\n",
       "      <th></th>\n",
       "      <th></th>\n",
       "      <th></th>\n",
       "      <th></th>\n",
       "      <th></th>\n",
       "      <th></th>\n",
       "    </tr>\n",
       "  </thead>\n",
       "  <tbody>\n",
       "    <tr>\n",
       "      <th>alabama</th>\n",
       "      <td>0.693</td>\n",
       "      <td>0.268</td>\n",
       "      <td>0.007</td>\n",
       "      <td>0.014</td>\n",
       "      <td>0.1</td>\n",
       "      <td>0.042</td>\n",
       "    </tr>\n",
       "    <tr>\n",
       "      <th>alaska</th>\n",
       "      <td>0.661</td>\n",
       "      <td>0.038</td>\n",
       "      <td>0.152</td>\n",
       "      <td>0.063</td>\n",
       "      <td>1.3</td>\n",
       "      <td>0.070</td>\n",
       "    </tr>\n",
       "    <tr>\n",
       "      <th>arizona</th>\n",
       "      <td>0.833</td>\n",
       "      <td>0.049</td>\n",
       "      <td>0.054</td>\n",
       "      <td>0.034</td>\n",
       "      <td>0.3</td>\n",
       "      <td>0.309</td>\n",
       "    </tr>\n",
       "    <tr>\n",
       "      <th>arkansas</th>\n",
       "      <td>0.794</td>\n",
       "      <td>0.157</td>\n",
       "      <td>0.010</td>\n",
       "      <td>0.016</td>\n",
       "      <td>0.3</td>\n",
       "      <td>0.073</td>\n",
       "    </tr>\n",
       "    <tr>\n",
       "      <th>california</th>\n",
       "      <td>0.727</td>\n",
       "      <td>0.065</td>\n",
       "      <td>0.017</td>\n",
       "      <td>0.148</td>\n",
       "      <td>0.5</td>\n",
       "      <td>0.389</td>\n",
       "    </tr>\n",
       "  </tbody>\n",
       "</table>\n",
       "</div>"
      ],
      "text/plain": [
       "            white_alone  black_or_afro-american_alone  \\\n",
       "state                                                   \n",
       "alabama           0.693                         0.268   \n",
       "alaska            0.661                         0.038   \n",
       "arizona           0.833                         0.049   \n",
       "arkansas          0.794                         0.157   \n",
       "california        0.727                         0.065   \n",
       "\n",
       "            american_indian/alaska_native  asian_alone  \\\n",
       "state                                                    \n",
       "alabama                             0.007        0.014   \n",
       "alaska                              0.152        0.063   \n",
       "arizona                             0.054        0.034   \n",
       "arkansas                            0.010        0.016   \n",
       "california                          0.017        0.148   \n",
       "\n",
       "            native_hawaiian/other_pacific_islander  hispanic_or_latino  \n",
       "state                                                                   \n",
       "alabama                                        0.1               0.042  \n",
       "alaska                                         1.3               0.070  \n",
       "arizona                                        0.3               0.309  \n",
       "arkansas                                       0.3               0.073  \n",
       "california                                     0.5               0.389  "
      ]
     },
     "execution_count": 46,
     "metadata": {},
     "output_type": "execute_result"
    }
   ],
   "source": [
    "for i in df_ethn.columns:\n",
    "    try:\n",
    "        df_ethn[i] = df_ethn[i].str.replace('%', '')\n",
    "        df_ethn[i] = df_ethn[i].astype(float)/100   \n",
    "    except:\n",
    "        df_ethn[i] = pd.to_numeric(df_ethn[i], errors = 'coerce')\n",
    "df_ethn.head()\n",
    "\n",
    "\n"
   ]
  },
  {
   "cell_type": "code",
   "execution_count": 47,
   "metadata": {},
   "outputs": [
    {
     "data": {
      "text/plain": [
       "white_alone                               False\n",
       "black_or_afro-american_alone              False\n",
       "american_indian/alaska_native             False\n",
       "asian_alone                               False\n",
       "native_hawaiian/other_pacific_islander     True\n",
       "hispanic_or_latino                        False\n",
       "dtype: bool"
      ]
     },
     "execution_count": 47,
     "metadata": {},
     "output_type": "execute_result"
    }
   ],
   "source": [
    "#find columns with null values (which were previously letters). \n",
    "df_ethn.isnull().any()"
   ]
  },
  {
   "cell_type": "code",
   "execution_count": 48,
   "metadata": {},
   "outputs": [
    {
     "data": {
      "text/plain": [
       "state\n",
       "alabama            0.100\n",
       "alaska             1.300\n",
       "arizona            0.300\n",
       "arkansas           0.300\n",
       "california         0.500\n",
       "colorado           0.200\n",
       "connecticut        0.100\n",
       "delaware           0.100\n",
       "florida            0.100\n",
       "georgia            0.100\n",
       "hawaii            10.200\n",
       "idaho              0.200\n",
       "illinois           0.100\n",
       "indiana            0.100\n",
       "iowa               0.100\n",
       "kansas             0.100\n",
       "kentucky           0.100\n",
       "louisiana          0.100\n",
       "maine                NaN\n",
       "maryland           0.100\n",
       "massachusetts      0.100\n",
       "michigan             NaN\n",
       "minnesota          0.100\n",
       "mississippi        0.100\n",
       "missouri           0.100\n",
       "montana            0.100\n",
       "nebraska           0.100\n",
       "nevada             0.800\n",
       "new_hampshire      0.100\n",
       "new_jersey         0.100\n",
       "new_mexico         0.002\n",
       "new_york           0.001\n",
       "north_carolina     0.001\n",
       "north_dakota       0.001\n",
       "ohio               0.001\n",
       "oklahoma           0.002\n",
       "oregon             0.004\n",
       "pennsylvania       0.001\n",
       "rhode_island       0.002\n",
       "south_carolina     0.001\n",
       "south_dakota       0.001\n",
       "tennessee          0.001\n",
       "texas              0.100\n",
       "utah               1.000\n",
       "vermont              NaN\n",
       "virginia           0.100\n",
       "washington         0.800\n",
       "west_virginia        NaN\n",
       "wisconsin          0.100\n",
       "wyoming            0.100\n",
       "Name: native_hawaiian/other_pacific_islander, dtype: float64"
      ]
     },
     "execution_count": 48,
     "metadata": {},
     "output_type": "execute_result"
    }
   ],
   "source": [
    "df_ethn['native_hawaiian/other_pacific_islander']"
   ]
  },
  {
   "cell_type": "code",
   "execution_count": 49,
   "metadata": {},
   "outputs": [
    {
     "name": "stderr",
     "output_type": "stream",
     "text": [
      "/opt/anaconda3/lib/python3.7/site-packages/ipykernel_launcher.py:2: SettingWithCopyWarning: \n",
      "A value is trying to be set on a copy of a slice from a DataFrame\n",
      "\n",
      "See the caveats in the documentation: https://pandas.pydata.org/pandas-docs/stable/user_guide/indexing.html#returning-a-view-versus-a-copy\n",
      "  \n"
     ]
    }
   ],
   "source": [
    "#fortunately, these null values do not occur on states with high gun per capita. So we can drop these rows.\n",
    "df_ethn.dropna(inplace=True)"
   ]
  },
  {
   "cell_type": "code",
   "execution_count": 50,
   "metadata": {},
   "outputs": [],
   "source": [
    "kentucky = df_ethn.query('state == \"kentucky\"').values.tolist()[0]\n",
    "georgia = df_ethn.query('state== \"georgia\"').values.tolist()[0]\n",
    "minnesota = df_ethn.query('state == \"minnesota\"').values.tolist()[0]\n",
    "us_avg_ethnic_prop = df_ethn.mean().values.tolist()"
   ]
  },
  {
   "cell_type": "code",
   "execution_count": 51,
   "metadata": {},
   "outputs": [
    {
     "data": {
      "image/png": "[encoded data removed]",
      "text/plain": [
       "<Figure size 1152x720 with 1 Axes>"
      ]
     },
     "metadata": {
      "needs_background": "light"
     },
     "output_type": "display_data"
    }
   ],
   "source": [
    "#Let's plot a grouped bar chart to see if anything stands out.\n",
    "plt.figure(figsize = (16, 10))\n",
    "x = np.arange(len(kentucky))\n",
    "bar_width = 0.2\n",
    "plt.bar(x, kentucky, width = bar_width, color = 'red', label ='Kentucky', align = 'edge')\n",
    "plt.bar(x + bar_width, georgia, width = bar_width, color ='orange', label = 'Georgia', align = 'edge')\n",
    "plt.bar(x + bar_width*2, minnesota, width = bar_width, color = 'yellow', label = 'Minnesota', align = 'edge' )\n",
    "plt.bar(x + bar_width*3, us_avg_ethnic_prop, width = bar_width, color = 'green', label = 'US average', align ='edge')\n",
    "\n",
    "plt.xticks(x + bar_width*4 -0.4, ['White', 'Black/Afro American', 'American Indian and Alaska Native', 'Asian', 'Native Hawaiian and other Pacific Islanders', 'Hispanic or Latino'])\n",
    "plt.xticks(rotation = 90)\n",
    "plt.title('Ethnic Proportions of States with High Gun Per Capita versus National Average')\n",
    "plt.xlabel('Different ethnicities');\n",
    "plt.ylabel('proportions');\n",
    "plt.legend();"
   ]
  },
  {
   "cell_type": "markdown",
   "metadata": {},
   "source": [
    "<a id='conclusions'></a>\n",
    "## Conclusions\n",
    "\n",
    "> We have first studied the change in guns across the different states. We noticed that the 5 states which have expericenced the highest growth in gun registrations are: Kentucky, Illinois, California, Florida and Texas.\n",
    "\n",
    ">We then looked at the mean in gun registrations for each year and created a scatterplot. Overall, we can see that over time, more and more people in America are buying guns. \n",
    "\n",
    "> The question of correlation between race and gun per capita is a hot and highly debated topic. From this study, we cannot conclude that ethnicity is a deciding factor in gun per capita. What jumps to the eye is that the states with high gun per capita have a high proportions (above average) of white citizens, average proportions of black citizens (except for Georgia) and below average percent of Hispanic or Latino citizens and Native Hawaiian and other Pacific Islanders. This calls into question certain prejudicides which associate gun use with minorities (particularly black and hispanic/latino Americans). "
   ]
  }
 ],
 "metadata": {
  "kernelspec": {
   "display_name": "Python 3",
   "language": "python",
   "name": "python3"
  },
  "language_info": {
   "codemirror_mode": {
    "name": "ipython",
    "version": 3
   },
   "file_extension": ".py",
   "mimetype": "text/x-python",
   "name": "python",
   "nbconvert_exporter": "python",
   "pygments_lexer": "ipython3",
   "version": "3.7.7"
  }
 },
 "nbformat": 4,
 "nbformat_minor": 2
}
